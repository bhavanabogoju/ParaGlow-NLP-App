{
  "nbformat": 4,
  "nbformat_minor": 0,
  "metadata": {
    "colab": {
      "provenance": []
    },
    "kernelspec": {
      "name": "python3",
      "display_name": "Python 3"
    },
    "language_info": {
      "name": "python"
    }
  },
  "cells": [
    {
      "cell_type": "markdown",
      "source": [
        "# ParaGlow Text Transformation Pipeline (Colab Edition)\n",
        "\n",
        "**By [Bogoju Bhavana]**\n",
        "\n",
        "This notebook demonstrates the core NLP pipeline functions (Summarization and Paraphrasing) using your refactored, custom classes.\n",
        "\n",
        "### 🚀 Features:\n",
        "* **Summarization** → Uses BART Large CNN (via Hugging Face API)\n",
        "* **Paraphrase Generation** → Uses Groq (LPU) for high-speed inference\n",
        "* **Modular Code Structure** → Custom classes for clear pipeline steps\n",
        "* **GPU Acceleration** → Auto-detection via PyTorch"
      ],
      "metadata": {
        "id": "DjeXRm3BA1Kw"
      }
    },
    {
      "cell_type": "code",
      "source": [
        "import os\n",
        "from google.colab import userdata\n",
        "\n",
        "# Load HF_API_KEY\n",
        "try:\n",
        "    os.environ['HF_API_KEY'] = userdata.get('HF_API_KEY')\n",
        "    print(\"✅ Hugging Face Key loaded directly.\")\n",
        "except:\n",
        "    print(\"❌ HF_API_KEY not found in Colab Secrets.\")\n",
        "\n",
        "# Load GROQ_API_KEY\n",
        "try:\n",
        "    os.environ['GROQ_API_KEY'] = userdata.get('GROQ_API_KEY')\n",
        "    print(\"✅ Groq Key loaded directly.\")\n",
        "except:\n",
        "    print(\"❌ GROQ_API_KEY not found in Colab Secrets.\")"
      ],
      "metadata": {
        "colab": {
          "base_uri": "https://localhost:8080/"
        },
        "id": "r0N4DIgnC_ES",
        "outputId": "159ef733-b9c5-490f-9ce4-32c5e860e74d"
      },
      "execution_count": 26,
      "outputs": [
        {
          "output_type": "stream",
          "name": "stdout",
          "text": [
            "✅ Hugging Face Key loaded directly.\n",
            "✅ Groq Key loaded directly.\n"
          ]
        }
      ]
    },
    {
      "cell_type": "code",
      "source": [
        "!pip install -q python-dotenv requests groq torch tqdm"
      ],
      "metadata": {
        "id": "3QoLByM6A1_Y"
      },
      "execution_count": 27,
      "outputs": []
    },
    {
      "cell_type": "code",
      "source": [
        "from groq import Groq\n",
        "from typing import List\n",
        "import os\n",
        "import sys\n",
        "import requests\n",
        "import torch\n",
        "from tqdm import tqdm\n",
        "\n",
        "# Check GPU availability\n",
        "device = \"cuda\" if torch.cuda.is_available() else \"cpu\"\n",
        "print(f\"✅ Running on: {device.upper()}\")\n",
        "\n",
        "# ====================================================================\n",
        "# CORE PROCESSOR CLASSES (Minimal Colab Version)\n",
        "# ====================================================================\n",
        "\n",
        "# 1.1 GROQ Rewriter (Paraphraser)\n",
        "class GroqRewriter:\n",
        "    def __init__(self, api_key):\n",
        "        if not api_key:\n",
        "            raise ValueError(\"GROQ API key is missing.\")\n",
        "        self.client = Groq(api_key=api_key)\n",
        "        # --- FIXED MODEL NAME ---\n",
        "        self.model = \"llama-3.1-8b-instant\"\n",
        "        # ------------------------\n",
        "\n",
        "    def paraphrase(self, text: str, num_return_sequences: int = 3) -> List[str]:\n",
        "        prompt = f\"Rewrite the following text in {num_return_sequences} distinct, natural English variations:\\n\\nTEXT: {text}\"\n",
        "\n",
        "        response = self.client.chat.completions.create(\n",
        "            model=self.model,\n",
        "            messages=[\n",
        "                {\"role\": \"system\", \"content\": \"You are a helpful text rephrasing assistant.\"},\n",
        "                {\"role\": \"user\", \"content\": prompt}\n",
        "            ],\n",
        "            temperature=0.8,\n",
        "            n=1\n",
        "        )\n",
        "\n",
        "        full_text = response.choices[0].message.content\n",
        "        return [line.strip() for line in full_text.split('\\n') if line.strip() and (len(line.split()) > 5)]\n",
        "\n",
        "# 1.2 HUGGING FACE Summarizer (Abstractive)\n",
        "class HFSummarizer:\n",
        "    def __init__(self, api_key):\n",
        "        if not api_key:\n",
        "            raise ValueError(\"HF API key is missing.\")\n",
        "        self.api_url = \"https://api-inference.huggingface.co/models/facebook/bart-large-cnn\"\n",
        "        self.headers = {\"Authorization\": f\"Bearer {api_key}\"}\n",
        "\n",
        "    def summarize(self, text: str, length='medium') -> str:\n",
        "        length_map = {'medium': {\"max_length\": 130, \"min_length\": 60}}\n",
        "        params = length_map.get(length, length_map['medium'])\n",
        "\n",
        "        payload = {\"inputs\": text, \"parameters\": {**params, \"do_sample\": False}}\n",
        "\n",
        "        response = requests.post(self.api_url, headers=self.headers, json=payload, timeout=60)\n",
        "\n",
        "        if response.status_code == 200:\n",
        "            result = response.json()\n",
        "            return result[0]['summary_text']\n",
        "        else:\n",
        "            return f\"❌ HF API Error: {response.status_code} - {response.text}\"\n",
        "\n",
        "# 1.3 End-to-End Processor\n",
        "class ParaGlowProcessor:\n",
        "    def __init__(self, hf_key, groq_key):\n",
        "        self.hf_key = hf_key\n",
        "        self.groq_key = groq_key\n",
        "        self.summarizer = HFSummarizer(hf_key)\n",
        "        self.paraphraser = GroqRewriter(groq_key)\n",
        "        print(\"✨ ParaGlow Processor initialized successfully!\")\n",
        "\n",
        "# Load API Keys (Assuming they are set in Colab Secrets)\n",
        "HF_API_KEY = os.environ.get(\"HF_API_KEY\")\n",
        "GROQ_API_KEY = os.environ.get(\"GROQ_API_KEY\")\n",
        "\n",
        "if not HF_API_KEY or not GROQ_API_KEY:\n",
        "    print(\"\\n\\n⚠️ WARNING: API Keys are not loaded.\")\n",
        "    print(\"Please use the 'Secrets' tab (key icon) on the left sidebar to securely enter your HF_API_KEY and GROQ_API_KEY.\")\n",
        "else:\n",
        "    print(f\"✅ Keys Loaded. HF Key: {HF_API_KEY[:4]}... Groq Key: {GROQ_API_KEY[:4]}...\")"
      ],
      "metadata": {
        "colab": {
          "base_uri": "https://localhost:8080/"
        },
        "id": "K_oO4TFtBDFq",
        "outputId": "761a69dd-bde6-4193-d09d-38890037e137"
      },
      "execution_count": 28,
      "outputs": [
        {
          "output_type": "stream",
          "name": "stdout",
          "text": [
            "✅ Running on: CPU\n",
            "✅ Keys Loaded. HF Key: hf_b... Groq Key: gsk_...\n"
          ]
        }
      ]
    },
    {
      "cell_type": "code",
      "source": [
        "def summarize_text(processor, text, max_len=130, min_len=40):\n",
        "    \"\"\"\n",
        "    Generates abstractive summary using the initialized processor.\n",
        "    \"\"\"\n",
        "    print(\"📘 Generating Summary...\")\n",
        "    try:\n",
        "        summary = processor.summarizer.summarize(text, length='medium')\n",
        "        return summary\n",
        "    except Exception as e:\n",
        "        return f\"❌ Summarization Error: {e}\"\n",
        "\n",
        "\n",
        "def generate_paraphrases(processor, text, num_return_sequences=3):\n",
        "    \"\"\"Generates multiple paraphrased versions of the given text.\"\"\"\n",
        "    return processor.paraphraser.paraphrase(text, num_return_sequences=num_return_sequences)\n",
        "\n",
        "\n",
        "def process_text(processor, input_text):\n",
        "    \"\"\"\n",
        "    End-to-End pipeline for Summarization and Paraphrasing.\n",
        "    \"\"\"\n",
        "    summary = summarize_text(processor, input_text)\n",
        "\n",
        "    if \"❌\" in summary:\n",
        "        return {\"summary\": summary, \"paraphrases\": [\"Error during summarization.\"]}\n",
        "\n",
        "    paraphrases = generate_paraphrases(processor, summary, num_return_sequences=3)\n",
        "\n",
        "    return {\n",
        "        \"summary\": summary,\n",
        "        \"paraphrases\": paraphrases\n",
        "    }"
      ],
      "metadata": {
        "id": "GZRT_cj4BEdW"
      },
      "execution_count": 29,
      "outputs": []
    },
    {
      "cell_type": "code",
      "source": [
        "# Initialize Processor\n",
        "try:\n",
        "    # Ensure keys are loaded from the environment before initializing the processor\n",
        "    HF_API_KEY = os.environ.get(\"HF_API_KEY\")\n",
        "    GROQ_API_KEY = os.environ.get(\"GROQ_API_KEY\")\n",
        "    processor = ParaGlowProcessor(HF_API_KEY, GROQ_API_KEY)\n",
        "except ValueError as e:\n",
        "    print(f\"FATAL ERROR: {e}\")\n",
        "    processor = None\n",
        "\n",
        "if processor:\n",
        "    SAMPLE_INPUT = \"\"\"\n",
        "    Artificial Intelligence (AI) is transforming industries worldwide. From healthcare to finance,\n",
        "    AI technologies like natural language processing and computer vision are improving efficiency,\n",
        "    reducing costs, and enabling new innovations. However, challenges such as data privacy,\n",
        "    algorithmic bias, and ethical concerns remain at the forefront of public discussion.\n",
        "    Solving these complex issues will be key to ensuring the responsible and equitable deployment of AI.\n",
        "    \"\"\"\n",
        "\n",
        "    print(\"\\n\\n\" + \"#\"*60)\n",
        "    print(\"RUNNING PARA GLOW END-TO-END PIPELINE\")\n",
        "    print(\"#\"*60)\n",
        "\n",
        "    # Run Pipeline\n",
        "    result = process_text(processor, SAMPLE_INPUT)\n",
        "\n",
        "    # --- FINAL OUTPUT DISPLAY ---\n",
        "    if result:\n",
        "        print(\"\\n\" + \"=\"*60)\n",
        "        print(\"✅ FINAL SUMMARY:\")\n",
        "        print(result[\"summary\"])\n",
        "\n",
        "        print(\"\\n\" + \"=\"*60)\n",
        "        print(\"✅ PARAPHRASES:\")\n",
        "        for i, p in enumerate(result[\"paraphrases\"], 1):\n",
        "            print(f\"  {i}. {p}\")\n",
        "else:\n",
        "    print(\"\\n[PIPELINE ABORTED] Please check API key setup in the Secrets panel.\")"
      ],
      "metadata": {
        "colab": {
          "base_uri": "https://localhost:8080/"
        },
        "id": "x1xScS03BF5G",
        "outputId": "73590d90-34de-4b34-8102-927b0c3aa46a"
      },
      "execution_count": 30,
      "outputs": [
        {
          "output_type": "stream",
          "name": "stdout",
          "text": [
            "✨ ParaGlow Processor initialized successfully!\n",
            "\n",
            "\n",
            "############################################################\n",
            "RUNNING PARA GLOW END-TO-END PIPELINE\n",
            "############################################################\n",
            "📘 Generating Summary...\n",
            "\n",
            "============================================================\n",
            "✅ FINAL SUMMARY:\n",
            "Artificial Intelligence (AI) is transforming industries worldwide. From healthcare to finance, AI technologies are improving efficiency. But challenges such as data privacy, algorithmic bias, and ethical concerns remain. Solving these complex issues will be key to ensuring the responsible and equitable deployment of AI.   \n",
            "\n",
            "============================================================\n",
            "✅ PARAPHRASES:\n",
            "  1. The global impact of Artificial Intelligence (AI) is revolutionizing industries across the board. By streamlining processes, AI technologies are enhancing efficiency in sectors such as healthcare and finance. However, critical issues like data protection, algorithmic bias, and ethics still need to be addressed. Overcoming these complex challenges is essential for the responsible and equitable implementation of AI.\n",
            "  2. Artificial Intelligence (AI) is making huge waves around the world, transforming the way we work in just about every industry. From hospitals to banks, AI is making things run more smoothly. But it's not all sunshine – we still have big problems like protecting people's data, making sure AI doesn't discriminate, and figuring out what's right and wrong when it comes to AI. Solving these tough issues will be key to making sure AI is used in a way that's both fair and responsible.\n",
            "  3. **Variation 3: More concise and technical tone**\n",
            "  4. Artificial Intelligence (AI) is driving global industrial transformations, primarily through process optimization in sectors such as healthcare and finance. However, unresolved issues like data security, algorithmic bias, and ethical considerations hinder AI's full potential. Mitigating these challenges will be crucial for the responsible, equitable deployment of AI technologies.\n"
          ]
        }
      ]
    }
  ]
}